{
 "cells": [
  {
   "cell_type": "markdown",
   "metadata": {
    "colab_type": "text",
    "id": "qeVHI_qa-mwd"
   },
   "source": [
    "Professora: Tatiana S. Tavares - Pós Tecnologias Disruptivas 2019/2\n",
    "\n",
    "Módulo: Aprendizado Supervisionado, Machine Learning e Classificadores\n",
    "\n",
    "Entrada: conjunto de dados MNIST. Entradas imagens 28 x 28\n",
    "\n",
    "60000 para treinamento e 10000 para validação\n",
    "\n",
    "MLPClassifier: Dense(512, activation='relu')\n",
    "\n",
    "              Dense(10, activation='softmax')\n",
    "metrics=['accuracy'] no treinamento e no test"
   ]
  },
  {
   "cell_type": "code",
   "execution_count": 1,
   "metadata": {
    "colab": {
     "base_uri": "https://localhost:8080/",
     "height": 182
    },
    "colab_type": "code",
    "executionInfo": {
     "elapsed": 3613,
     "status": "ok",
     "timestamp": 1575346705308,
     "user": {
      "displayName": "Alen Kaleb",
      "photoUrl": "https://lh3.googleusercontent.com/a-/AAuE7mDK1WBPWISQ-Tca9kw-E2hNKJf0V0lB5_IadNa5hg=s64",
      "userId": "06224985756676535880"
     },
     "user_tz": 180
    },
    "id": "rLa5wK97-mwi",
    "outputId": "7a408aea-ae39-4294-c5a6-53d9659ab65e"
   },
   "outputs": [
    {
     "name": "stderr",
     "output_type": "stream",
     "text": [
      "Using TensorFlow backend.\n"
     ]
    },
    {
     "data": {
      "text/html": [
       "<p style=\"color: red;\">\n",
       "The default version of TensorFlow in Colab will soon switch to TensorFlow 2.x.<br>\n",
       "We recommend you <a href=\"https://www.tensorflow.org/guide/migrate\" target=\"_blank\">upgrade</a> now \n",
       "or ensure your notebook will continue to use TensorFlow 1.x via the <code>%tensorflow_version 1.x</code> magic:\n",
       "<a href=\"https://colab.research.google.com/notebooks/tensorflow_version.ipynb\" target=\"_blank\">more info</a>.</p>\n"
      ],
      "text/plain": [
       "<IPython.core.display.HTML object>"
      ]
     },
     "metadata": {
      "tags": []
     },
     "output_type": "display_data"
    },
    {
     "name": "stdout",
     "output_type": "stream",
     "text": [
      "Downloading data from https://s3.amazonaws.com/img-datasets/mnist.npz\n",
      "11493376/11490434 [==============================] - 0s 0us/step\n",
      "(60000, 28, 28)\n",
      "(10000, 28, 28)\n",
      "[5 0 4 ... 5 6 8]\n",
      "[7 2 1 ... 4 5 6]\n"
     ]
    }
   ],
   "source": [
    "from keras.datasets import mnist\n",
    "(train_images, train_labels), (test_images, test_labels) = mnist.load_data()\n",
    "print (train_images.shape)\n",
    "print (test_images.shape)\n",
    "print (train_labels)\n",
    "print (test_labels)"
   ]
  },
  {
   "cell_type": "markdown",
   "metadata": {
    "colab_type": "text",
    "id": "nKKpSRAO-mwq"
   },
   "source": [
    "O fluxo de trabalho será o seguinte: primeiro, vamos alimentar a rede neural com os dados de treinamento, train_images e \n",
    "train_labels. A rede aprenderá então a associar imagens e rótulos. Por fim, pedimos que a rede produza previsões para as \n",
    "imagens de teste e verificamos se essas previsões correspondem aos rótulos de test_labels."
   ]
  },
  {
   "cell_type": "code",
   "execution_count": 2,
   "metadata": {
    "colab": {
     "base_uri": "https://localhost:8080/",
     "height": 139
    },
    "colab_type": "code",
    "executionInfo": {
     "elapsed": 602,
     "status": "ok",
     "timestamp": 1575346726364,
     "user": {
      "displayName": "Alen Kaleb",
      "photoUrl": "https://lh3.googleusercontent.com/a-/AAuE7mDK1WBPWISQ-Tca9kw-E2hNKJf0V0lB5_IadNa5hg=s64",
      "userId": "06224985756676535880"
     },
     "user_tz": 180
    },
    "id": "ZekU6ndW-mws",
    "outputId": "480b2c9e-bd9b-4c1b-c2b5-18286ff7f338"
   },
   "outputs": [
    {
     "name": "stdout",
     "output_type": "stream",
     "text": [
      "WARNING:tensorflow:From /usr/local/lib/python3.6/dist-packages/keras/backend/tensorflow_backend.py:66: The name tf.get_default_graph is deprecated. Please use tf.compat.v1.get_default_graph instead.\n",
      "\n",
      "WARNING:tensorflow:From /usr/local/lib/python3.6/dist-packages/keras/backend/tensorflow_backend.py:541: The name tf.placeholder is deprecated. Please use tf.compat.v1.placeholder instead.\n",
      "\n",
      "WARNING:tensorflow:From /usr/local/lib/python3.6/dist-packages/keras/backend/tensorflow_backend.py:4432: The name tf.random_uniform is deprecated. Please use tf.random.uniform instead.\n",
      "\n"
     ]
    }
   ],
   "source": [
    "from keras import models\n",
    "from keras import layers\n",
    "network = models.Sequential()\n",
    "network.add(layers.Dense(512, activation='relu', input_shape=(28 * 28,)))\n",
    "network.add(layers.Dense(10, activation='softmax'))"
   ]
  },
  {
   "cell_type": "markdown",
   "metadata": {
    "colab_type": "text",
    "id": "AjACnETU-mwx"
   },
   "source": [
    "Aqui, nossa rede consiste em uma sequência de duas camadas densas, que são camadas neurais densamente conectadas \n",
    "(também chamadas totalmente conectadas). A segunda (e última) camada é uma camada softmax de 10 vias, o que significa \n",
    "que ela retornará uma matriz de 10 pontuações de probabilidade (somando 1). Cada pontuação será a probabilidade de a \n",
    "imagem do dígito atual pertencer a uma das nossas classes de 10 dígitos.\n",
    "\n",
    "Para tornar a rede pronta para o treinamento, precisamos escolher mais três coisas, como parte da etapa de compilação:\n",
    "- Uma função de perda - como a rede poderá medir seu desempenho nos dados de treinamento e, assim, como será capaz de \n",
    "se orientar na direção certa.\n",
    "- Um otimizador - O mecanismo pelo qual a rede se atualizará com base nos dados que vê e na sua função de perda.\n",
    "- Métricas a serem monitoradas durante o treinamento e o teste: aqui, nos preocuparemos apenas com a acurácia (a fração \n",
    "das imagens que foram classificadas corretamente)."
   ]
  },
  {
   "cell_type": "code",
   "execution_count": 3,
   "metadata": {
    "colab": {
     "base_uri": "https://localhost:8080/",
     "height": 105
    },
    "colab_type": "code",
    "executionInfo": {
     "elapsed": 605,
     "status": "ok",
     "timestamp": 1575346735971,
     "user": {
      "displayName": "Alen Kaleb",
      "photoUrl": "https://lh3.googleusercontent.com/a-/AAuE7mDK1WBPWISQ-Tca9kw-E2hNKJf0V0lB5_IadNa5hg=s64",
      "userId": "06224985756676535880"
     },
     "user_tz": 180
    },
    "id": "U3AH21N_-mwy",
    "outputId": "8a2bcb0d-bd04-40ed-95f3-fde40636ec9e"
   },
   "outputs": [
    {
     "name": "stdout",
     "output_type": "stream",
     "text": [
      "WARNING:tensorflow:From /usr/local/lib/python3.6/dist-packages/keras/optimizers.py:793: The name tf.train.Optimizer is deprecated. Please use tf.compat.v1.train.Optimizer instead.\n",
      "\n",
      "WARNING:tensorflow:From /usr/local/lib/python3.6/dist-packages/keras/backend/tensorflow_backend.py:3576: The name tf.log is deprecated. Please use tf.math.log instead.\n",
      "\n"
     ]
    }
   ],
   "source": [
    "network.compile(optimizer='rmsprop', loss='categorical_crossentropy', metrics=['accuracy'])"
   ]
  },
  {
   "cell_type": "markdown",
   "metadata": {
    "colab_type": "text",
    "id": "UDSu0K_T-mw4"
   },
   "source": [
    "Antes do treinamento, pré-processaremos os dados reformulando-os de acordo com o formato esperado pela rede e \n",
    "dimensionando-os para que todos os valores fiquem no intervalo [0, 1]. Anteriormente, nossas imagens de treinamento, \n",
    "por exemplo, eram armazenadas em uma matriz de forma (60000, 28, 28) do tipo uint8 com valores no intervalo [0, 255]. \n",
    "Nós o transformamos em uma matriz float32 (60000, 28 * 28) com valores entre 0 e 1."
   ]
  },
  {
   "cell_type": "code",
   "execution_count": 0,
   "metadata": {
    "colab": {},
    "colab_type": "code",
    "id": "v0ZVD-RS-mw6"
   },
   "outputs": [],
   "source": [
    "train_images = train_images.reshape((60000, 28 * 28))\n",
    "train_images = train_images.astype('float32') / 255\n",
    "test_images = test_images.reshape((10000, 28 * 28))\n",
    "test_images = test_images.astype('float32') / 255"
   ]
  },
  {
   "cell_type": "code",
   "execution_count": 0,
   "metadata": {
    "colab": {},
    "colab_type": "code",
    "id": "_j6ngt-h-mw-"
   },
   "outputs": [],
   "source": [
    "print (train_images.shape)\n",
    "print (test_images.shape)\n",
    "print (train_labels)\n",
    "print (test_labels)"
   ]
  },
  {
   "cell_type": "markdown",
   "metadata": {
    "colab_type": "text",
    "id": "xlJXjgVs-mxC"
   },
   "source": [
    "Também precisamos codificar categoricamente os rótulos"
   ]
  },
  {
   "cell_type": "code",
   "execution_count": 5,
   "metadata": {
    "colab": {
     "base_uri": "https://localhost:8080/",
     "height": 255
    },
    "colab_type": "code",
    "executionInfo": {
     "elapsed": 745,
     "status": "ok",
     "timestamp": 1575346745053,
     "user": {
      "displayName": "Alen Kaleb",
      "photoUrl": "https://lh3.googleusercontent.com/a-/AAuE7mDK1WBPWISQ-Tca9kw-E2hNKJf0V0lB5_IadNa5hg=s64",
      "userId": "06224985756676535880"
     },
     "user_tz": 180
    },
    "id": "qGA8m2Qw-mxD",
    "outputId": "7681051c-e64f-46a7-b363-4448a7ce00d3"
   },
   "outputs": [
    {
     "name": "stdout",
     "output_type": "stream",
     "text": [
      "[[0. 0. 0. ... 0. 0. 0.]\n",
      " [1. 0. 0. ... 0. 0. 0.]\n",
      " [0. 0. 0. ... 0. 0. 0.]\n",
      " ...\n",
      " [0. 0. 0. ... 0. 0. 0.]\n",
      " [0. 0. 0. ... 0. 0. 0.]\n",
      " [0. 0. 0. ... 0. 1. 0.]]\n",
      "[[0. 0. 0. ... 1. 0. 0.]\n",
      " [0. 0. 1. ... 0. 0. 0.]\n",
      " [0. 1. 0. ... 0. 0. 0.]\n",
      " ...\n",
      " [0. 0. 0. ... 0. 0. 0.]\n",
      " [0. 0. 0. ... 0. 0. 0.]\n",
      " [0. 0. 0. ... 0. 0. 0.]]\n"
     ]
    }
   ],
   "source": [
    "from keras.utils import to_categorical\n",
    "train_labels = to_categorical(train_labels)\n",
    "test_labels = to_categorical(test_labels)\n",
    "\n",
    "print (train_labels)\n",
    "print (test_labels)"
   ]
  },
  {
   "cell_type": "markdown",
   "metadata": {
    "colab_type": "text",
    "id": "HmdjIxwL-mxH"
   },
   "source": [
    "Agora estamos prontos para treinar a rede, o que em Keras é feito por meio de uma chamada para o método \n",
    "de ajuste da rede. Nós ajustamos o modelo aos dados de treinamento:"
   ]
  },
  {
   "cell_type": "code",
   "execution_count": 6,
   "metadata": {
    "colab": {
     "base_uri": "https://localhost:8080/",
     "height": 1000
    },
    "colab_type": "code",
    "executionInfo": {
     "elapsed": 276931,
     "status": "ok",
     "timestamp": 1575347024534,
     "user": {
      "displayName": "Alen Kaleb",
      "photoUrl": "https://lh3.googleusercontent.com/a-/AAuE7mDK1WBPWISQ-Tca9kw-E2hNKJf0V0lB5_IadNa5hg=s64",
      "userId": "06224985756676535880"
     },
     "user_tz": 180
    },
    "id": "GiL8UVuU-mxI",
    "outputId": "a7ff7309-abcc-4c76-b8ec-5867ed5f1841"
   },
   "outputs": [
    {
     "name": "stdout",
     "output_type": "stream",
     "text": [
      "WARNING:tensorflow:From /usr/local/lib/python3.6/dist-packages/tensorflow_core/python/ops/math_grad.py:1424: where (from tensorflow.python.ops.array_ops) is deprecated and will be removed in a future version.\n",
      "Instructions for updating:\n",
      "Use tf.where in 2.0, which has the same broadcast rule as np.where\n",
      "WARNING:tensorflow:From /usr/local/lib/python3.6/dist-packages/keras/backend/tensorflow_backend.py:1033: The name tf.assign_add is deprecated. Please use tf.compat.v1.assign_add instead.\n",
      "\n",
      "WARNING:tensorflow:From /usr/local/lib/python3.6/dist-packages/keras/backend/tensorflow_backend.py:1020: The name tf.assign is deprecated. Please use tf.compat.v1.assign instead.\n",
      "\n",
      "WARNING:tensorflow:From /usr/local/lib/python3.6/dist-packages/keras/backend/tensorflow_backend.py:3005: The name tf.Session is deprecated. Please use tf.compat.v1.Session instead.\n",
      "\n",
      "Epoch 1/100\n",
      "WARNING:tensorflow:From /usr/local/lib/python3.6/dist-packages/keras/backend/tensorflow_backend.py:190: The name tf.get_default_session is deprecated. Please use tf.compat.v1.get_default_session instead.\n",
      "\n",
      "WARNING:tensorflow:From /usr/local/lib/python3.6/dist-packages/keras/backend/tensorflow_backend.py:197: The name tf.ConfigProto is deprecated. Please use tf.compat.v1.ConfigProto instead.\n",
      "\n",
      "WARNING:tensorflow:From /usr/local/lib/python3.6/dist-packages/keras/backend/tensorflow_backend.py:207: The name tf.global_variables is deprecated. Please use tf.compat.v1.global_variables instead.\n",
      "\n",
      "WARNING:tensorflow:From /usr/local/lib/python3.6/dist-packages/keras/backend/tensorflow_backend.py:216: The name tf.is_variable_initialized is deprecated. Please use tf.compat.v1.is_variable_initialized instead.\n",
      "\n",
      "WARNING:tensorflow:From /usr/local/lib/python3.6/dist-packages/keras/backend/tensorflow_backend.py:223: The name tf.variables_initializer is deprecated. Please use tf.compat.v1.variables_initializer instead.\n",
      "\n",
      "60000/60000 [==============================] - 8s 141us/step - loss: 0.2555 - acc: 0.9262\n",
      "Epoch 2/100\n",
      "60000/60000 [==============================] - 3s 47us/step - loss: 0.1041 - acc: 0.9692\n",
      "Epoch 3/100\n",
      "60000/60000 [==============================] - 3s 49us/step - loss: 0.0692 - acc: 0.9790\n",
      "Epoch 4/100\n",
      "60000/60000 [==============================] - 3s 46us/step - loss: 0.0498 - acc: 0.9846\n",
      "Epoch 5/100\n",
      "60000/60000 [==============================] - 3s 46us/step - loss: 0.0382 - acc: 0.9887\n",
      "Epoch 6/100\n",
      "60000/60000 [==============================] - 3s 44us/step - loss: 0.0292 - acc: 0.9916\n",
      "Epoch 7/100\n",
      "60000/60000 [==============================] - 3s 46us/step - loss: 0.0221 - acc: 0.9932\n",
      "Epoch 8/100\n",
      "60000/60000 [==============================] - 3s 48us/step - loss: 0.0170 - acc: 0.9953\n",
      "Epoch 9/100\n",
      "60000/60000 [==============================] - 3s 44us/step - loss: 0.0137 - acc: 0.9962\n",
      "Epoch 10/100\n",
      "60000/60000 [==============================] - 3s 45us/step - loss: 0.0105 - acc: 0.9969\n",
      "Epoch 11/100\n",
      "60000/60000 [==============================] - 3s 48us/step - loss: 0.0084 - acc: 0.9975\n",
      "Epoch 12/100\n",
      "60000/60000 [==============================] - 3s 44us/step - loss: 0.0069 - acc: 0.9983\n",
      "Epoch 13/100\n",
      "60000/60000 [==============================] - 3s 45us/step - loss: 0.0048 - acc: 0.9987\n",
      "Epoch 14/100\n",
      "60000/60000 [==============================] - 3s 49us/step - loss: 0.0038 - acc: 0.9991\n",
      "Epoch 15/100\n",
      "60000/60000 [==============================] - 3s 44us/step - loss: 0.0034 - acc: 0.9990\n",
      "Epoch 16/100\n",
      "60000/60000 [==============================] - 3s 46us/step - loss: 0.0026 - acc: 0.9993\n",
      "Epoch 17/100\n",
      "60000/60000 [==============================] - 3s 46us/step - loss: 0.0019 - acc: 0.9995\n",
      "Epoch 18/100\n",
      "60000/60000 [==============================] - 3s 44us/step - loss: 0.0017 - acc: 0.9996\n",
      "Epoch 19/100\n",
      "60000/60000 [==============================] - 3s 46us/step - loss: 0.0013 - acc: 0.9997\n",
      "Epoch 20/100\n",
      "60000/60000 [==============================] - 3s 45us/step - loss: 0.0015 - acc: 0.9996\n",
      "Epoch 21/100\n",
      "60000/60000 [==============================] - 3s 45us/step - loss: 0.0011 - acc: 0.9997\n",
      "Epoch 22/100\n",
      "60000/60000 [==============================] - 3s 47us/step - loss: 8.6363e-04 - acc: 0.9998\n",
      "Epoch 23/100\n",
      "60000/60000 [==============================] - 3s 44us/step - loss: 7.3252e-04 - acc: 0.9998\n",
      "Epoch 24/100\n",
      "60000/60000 [==============================] - 3s 45us/step - loss: 7.2584e-04 - acc: 0.9999\n",
      "Epoch 25/100\n",
      "60000/60000 [==============================] - 3s 45us/step - loss: 5.9898e-04 - acc: 0.9999\n",
      "Epoch 26/100\n",
      "60000/60000 [==============================] - 3s 44us/step - loss: 5.3900e-04 - acc: 0.9999\n",
      "Epoch 27/100\n",
      "60000/60000 [==============================] - 3s 45us/step - loss: 4.7232e-04 - acc: 0.9999\n",
      "Epoch 28/100\n",
      "60000/60000 [==============================] - 3s 44us/step - loss: 5.8823e-04 - acc: 0.9999\n",
      "Epoch 29/100\n",
      "60000/60000 [==============================] - 3s 44us/step - loss: 3.7920e-04 - acc: 0.9999\n",
      "Epoch 30/100\n",
      "60000/60000 [==============================] - 3s 43us/step - loss: 3.9172e-04 - acc: 1.0000\n",
      "Epoch 31/100\n",
      "60000/60000 [==============================] - 3s 45us/step - loss: 3.2430e-04 - acc: 1.0000\n",
      "Epoch 32/100\n",
      "60000/60000 [==============================] - 3s 44us/step - loss: 3.7391e-04 - acc: 1.0000\n",
      "Epoch 33/100\n",
      "60000/60000 [==============================] - 3s 45us/step - loss: 3.2095e-04 - acc: 1.0000\n",
      "Epoch 34/100\n",
      "60000/60000 [==============================] - 3s 45us/step - loss: 3.5474e-04 - acc: 1.0000\n",
      "Epoch 35/100\n",
      "60000/60000 [==============================] - 3s 44us/step - loss: 2.9368e-04 - acc: 1.0000\n",
      "Epoch 36/100\n",
      "60000/60000 [==============================] - 3s 46us/step - loss: 2.9095e-04 - acc: 1.0000\n",
      "Epoch 37/100\n",
      "60000/60000 [==============================] - 3s 44us/step - loss: 2.9837e-04 - acc: 1.0000\n",
      "Epoch 38/100\n",
      "60000/60000 [==============================] - 3s 43us/step - loss: 2.9371e-04 - acc: 1.0000\n",
      "Epoch 39/100\n",
      "60000/60000 [==============================] - 3s 44us/step - loss: 2.7392e-04 - acc: 1.0000\n",
      "Epoch 40/100\n",
      "60000/60000 [==============================] - 3s 45us/step - loss: 3.2351e-04 - acc: 1.0000\n",
      "Epoch 41/100\n",
      "60000/60000 [==============================] - 3s 46us/step - loss: 2.6960e-04 - acc: 1.0000\n",
      "Epoch 42/100\n",
      "60000/60000 [==============================] - 3s 46us/step - loss: 2.6927e-04 - acc: 1.0000\n",
      "Epoch 43/100\n",
      "60000/60000 [==============================] - 3s 44us/step - loss: 2.6888e-04 - acc: 1.0000\n",
      "Epoch 44/100\n",
      "60000/60000 [==============================] - 3s 46us/step - loss: 2.6879e-04 - acc: 1.0000\n",
      "Epoch 45/100\n",
      "60000/60000 [==============================] - 3s 44us/step - loss: 2.6877e-04 - acc: 1.0000\n",
      "Epoch 46/100\n",
      "60000/60000 [==============================] - 3s 44us/step - loss: 2.6877e-04 - acc: 1.0000\n",
      "Epoch 47/100\n",
      "60000/60000 [==============================] - 3s 43us/step - loss: 2.6877e-04 - acc: 1.0000\n",
      "Epoch 48/100\n",
      "60000/60000 [==============================] - 3s 44us/step - loss: 2.6876e-04 - acc: 1.0000\n",
      "Epoch 49/100\n",
      "60000/60000 [==============================] - 3s 45us/step - loss: 2.6876e-04 - acc: 1.0000\n",
      "Epoch 50/100\n",
      "60000/60000 [==============================] - 3s 47us/step - loss: 2.6876e-04 - acc: 1.0000\n",
      "Epoch 51/100\n",
      "60000/60000 [==============================] - 3s 48us/step - loss: 2.6876e-04 - acc: 1.0000\n",
      "Epoch 52/100\n",
      "60000/60000 [==============================] - 3s 45us/step - loss: 2.6876e-04 - acc: 1.0000\n",
      "Epoch 53/100\n",
      "60000/60000 [==============================] - 3s 43us/step - loss: 2.6876e-04 - acc: 1.0000\n",
      "Epoch 54/100\n",
      "60000/60000 [==============================] - 3s 44us/step - loss: 2.6876e-04 - acc: 1.0000\n",
      "Epoch 55/100\n",
      "60000/60000 [==============================] - 3s 44us/step - loss: 2.6876e-04 - acc: 1.0000\n",
      "Epoch 56/100\n",
      "60000/60000 [==============================] - 3s 45us/step - loss: 2.6876e-04 - acc: 1.0000\n",
      "Epoch 57/100\n",
      "60000/60000 [==============================] - 3s 45us/step - loss: 2.6876e-04 - acc: 1.0000\n",
      "Epoch 58/100\n",
      "60000/60000 [==============================] - 3s 43us/step - loss: 2.6876e-04 - acc: 1.0000\n",
      "Epoch 59/100\n",
      "60000/60000 [==============================] - 3s 44us/step - loss: 2.6876e-04 - acc: 1.0000\n",
      "Epoch 60/100\n",
      "60000/60000 [==============================] - 3s 50us/step - loss: 2.6876e-04 - acc: 1.0000\n",
      "Epoch 61/100\n",
      "60000/60000 [==============================] - 3s 46us/step - loss: 2.6876e-04 - acc: 1.0000\n",
      "Epoch 62/100\n",
      "60000/60000 [==============================] - 3s 44us/step - loss: 2.6876e-04 - acc: 1.0000\n",
      "Epoch 63/100\n",
      "60000/60000 [==============================] - 3s 43us/step - loss: 2.6876e-04 - acc: 1.0000\n",
      "Epoch 64/100\n",
      "60000/60000 [==============================] - 3s 44us/step - loss: 2.6876e-04 - acc: 1.0000\n",
      "Epoch 65/100\n",
      "60000/60000 [==============================] - 3s 44us/step - loss: 2.6876e-04 - acc: 1.0000\n",
      "Epoch 66/100\n",
      "60000/60000 [==============================] - 3s 43us/step - loss: 2.6876e-04 - acc: 1.0000\n",
      "Epoch 67/100\n",
      "60000/60000 [==============================] - 3s 47us/step - loss: 2.6876e-04 - acc: 1.0000\n",
      "Epoch 68/100\n",
      "60000/60000 [==============================] - 3s 45us/step - loss: 2.6876e-04 - acc: 1.0000\n",
      "Epoch 69/100\n",
      "60000/60000 [==============================] - 3s 45us/step - loss: 2.6876e-04 - acc: 1.0000\n",
      "Epoch 70/100\n",
      "60000/60000 [==============================] - 3s 45us/step - loss: 2.6876e-04 - acc: 1.0000\n",
      "Epoch 71/100\n",
      "60000/60000 [==============================] - 3s 45us/step - loss: 2.6876e-04 - acc: 1.0000\n",
      "Epoch 72/100\n",
      "60000/60000 [==============================] - 3s 44us/step - loss: 2.6876e-04 - acc: 1.0000\n",
      "Epoch 73/100\n",
      "60000/60000 [==============================] - 3s 45us/step - loss: 2.6876e-04 - acc: 1.0000\n",
      "Epoch 74/100\n",
      "60000/60000 [==============================] - 3s 44us/step - loss: 2.6876e-04 - acc: 1.0000\n",
      "Epoch 75/100\n",
      "60000/60000 [==============================] - 3s 45us/step - loss: 2.6876e-04 - acc: 1.0000\n",
      "Epoch 76/100\n",
      "60000/60000 [==============================] - 3s 45us/step - loss: 2.6876e-04 - acc: 1.0000\n",
      "Epoch 77/100\n",
      "60000/60000 [==============================] - 3s 46us/step - loss: 2.6876e-04 - acc: 1.0000\n",
      "Epoch 78/100\n",
      "60000/60000 [==============================] - 3s 45us/step - loss: 2.6876e-04 - acc: 1.0000\n",
      "Epoch 79/100\n",
      "60000/60000 [==============================] - 3s 45us/step - loss: 2.6876e-04 - acc: 1.0000\n",
      "Epoch 80/100\n",
      "60000/60000 [==============================] - 3s 44us/step - loss: 2.6876e-04 - acc: 1.0000\n",
      "Epoch 81/100\n",
      "60000/60000 [==============================] - 3s 43us/step - loss: 2.6876e-04 - acc: 1.0000\n",
      "Epoch 82/100\n",
      "60000/60000 [==============================] - 3s 44us/step - loss: 2.6876e-04 - acc: 1.0000\n",
      "Epoch 83/100\n",
      "60000/60000 [==============================] - 3s 45us/step - loss: 2.6876e-04 - acc: 1.0000\n",
      "Epoch 84/100\n",
      "60000/60000 [==============================] - 3s 44us/step - loss: 2.6876e-04 - acc: 1.0000\n",
      "Epoch 85/100\n",
      "60000/60000 [==============================] - 3s 44us/step - loss: 2.6876e-04 - acc: 1.0000\n",
      "Epoch 86/100\n",
      "60000/60000 [==============================] - 3s 49us/step - loss: 2.6876e-04 - acc: 1.0000\n",
      "Epoch 87/100\n",
      "60000/60000 [==============================] - 3s 47us/step - loss: 2.6876e-04 - acc: 1.0000\n",
      "Epoch 88/100\n",
      "60000/60000 [==============================] - 3s 45us/step - loss: 2.6876e-04 - acc: 1.0000\n",
      "Epoch 89/100\n",
      "60000/60000 [==============================] - 3s 45us/step - loss: 2.6875e-04 - acc: 1.0000\n",
      "Epoch 90/100\n",
      "60000/60000 [==============================] - 3s 45us/step - loss: 2.6875e-04 - acc: 1.0000\n",
      "Epoch 91/100\n",
      "60000/60000 [==============================] - 3s 44us/step - loss: 2.6875e-04 - acc: 1.0000\n",
      "Epoch 92/100\n",
      "60000/60000 [==============================] - 3s 45us/step - loss: 2.6875e-04 - acc: 1.0000\n",
      "Epoch 93/100\n",
      "60000/60000 [==============================] - 3s 44us/step - loss: 2.6875e-04 - acc: 1.0000\n",
      "Epoch 94/100\n",
      "60000/60000 [==============================] - 3s 44us/step - loss: 2.6875e-04 - acc: 1.0000\n",
      "Epoch 95/100\n",
      "60000/60000 [==============================] - 3s 46us/step - loss: 2.6875e-04 - acc: 1.0000\n",
      "Epoch 96/100\n",
      "60000/60000 [==============================] - 3s 45us/step - loss: 2.6875e-04 - acc: 1.0000\n",
      "Epoch 97/100\n",
      "60000/60000 [==============================] - 3s 46us/step - loss: 2.6875e-04 - acc: 1.0000\n",
      "Epoch 98/100\n",
      "60000/60000 [==============================] - 3s 46us/step - loss: 2.6875e-04 - acc: 1.0000\n",
      "Epoch 99/100\n",
      "60000/60000 [==============================] - 3s 43us/step - loss: 2.6875e-04 - acc: 1.0000\n",
      "Epoch 100/100\n",
      "60000/60000 [==============================] - 3s 45us/step - loss: 2.6875e-04 - acc: 1.0000\n"
     ]
    },
    {
     "data": {
      "text/plain": [
       "<keras.callbacks.History at 0x7fe2e8eebac8>"
      ]
     },
     "execution_count": 6,
     "metadata": {
      "tags": []
     },
     "output_type": "execute_result"
    }
   ],
   "source": [
    "network.fit(train_images, train_labels, epochs=100, batch_size=128)"
   ]
  },
  {
   "cell_type": "code",
   "execution_count": 7,
   "metadata": {
    "colab": {
     "base_uri": "https://localhost:8080/",
     "height": 51
    },
    "colab_type": "code",
    "executionInfo": {
     "elapsed": 251302,
     "status": "ok",
     "timestamp": 1575347025072,
     "user": {
      "displayName": "Alen Kaleb",
      "photoUrl": "https://lh3.googleusercontent.com/a-/AAuE7mDK1WBPWISQ-Tca9kw-E2hNKJf0V0lB5_IadNa5hg=s64",
      "userId": "06224985756676535880"
     },
     "user_tz": 180
    },
    "id": "ceE9P0EG-mxN",
    "outputId": "395b7600-7eb3-4f8e-f8a2-a1746c000c91"
   },
   "outputs": [
    {
     "name": "stdout",
     "output_type": "stream",
     "text": [
      "10000/10000 [==============================] - 1s 64us/step\n",
      "test_acc: 0.9847\n"
     ]
    }
   ],
   "source": [
    "test_loss, test_acc = network.evaluate(test_images, test_labels)\n",
    "print('test_acc:', test_acc)"
   ]
  },
  {
   "cell_type": "markdown",
   "metadata": {
    "colab_type": "text",
    "id": "ENGjLijm-mxR"
   },
   "source": [
    "A acurácia do conjunto de testes é de aproximadamente 98% - abaixo da precisão do conjunto de treinamento (~99%). \n",
    "Essa lacuna entre a precisão do treinamento e a precisão do teste é um exemplo de\n",
    "overfitting: o fato de que os modelos de aprendizado de máquina tendem a ter um desempenho pior em novos dados \n",
    "do que em seus dados de treinamento.\n",
    "\n"
   ]
  },
  {
   "cell_type": "code",
   "execution_count": 0,
   "metadata": {
    "colab": {},
    "colab_type": "code",
    "id": "TL0EkcgF-mxT"
   },
   "outputs": [],
   "source": []
  }
 ],
 "metadata": {
  "accelerator": "GPU",
  "colab": {
   "collapsed_sections": [],
   "name": "MLP_MNIST_keras.ipynb",
   "provenance": []
  },
  "kernelspec": {
   "display_name": "Python 3",
   "language": "python",
   "name": "python3"
  },
  "language_info": {
   "codemirror_mode": {
    "name": "ipython",
    "version": 3
   },
   "file_extension": ".py",
   "mimetype": "text/x-python",
   "name": "python",
   "nbconvert_exporter": "python",
   "pygments_lexer": "ipython3",
   "version": "3.7.4"
  }
 },
 "nbformat": 4,
 "nbformat_minor": 1
}
